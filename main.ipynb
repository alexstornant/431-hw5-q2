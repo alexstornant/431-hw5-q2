{
 "cells": [
  {
   "cell_type": "code",
   "execution_count": 1,
   "metadata": {},
   "outputs": [
    {
     "name": "stdout",
     "output_type": "stream",
     "text": [
      "Python 3.9.6\n"
     ]
    }
   ],
   "source": [
    "!python --version"
   ]
  },
  {
   "cell_type": "code",
   "execution_count": 2,
   "metadata": {},
   "outputs": [
    {
     "name": "stdout",
     "output_type": "stream",
     "text": [
      "Requirement already satisfied: numpy in ./.venv/lib/python3.9/site-packages (2.0.2)\n",
      "Requirement already satisfied: matplotlib in ./.venv/lib/python3.9/site-packages (3.9.2)\n",
      "Requirement already satisfied: contourpy>=1.0.1 in ./.venv/lib/python3.9/site-packages (from matplotlib) (1.3.0)\n",
      "Requirement already satisfied: cycler>=0.10 in ./.venv/lib/python3.9/site-packages (from matplotlib) (0.12.1)\n",
      "Requirement already satisfied: fonttools>=4.22.0 in ./.venv/lib/python3.9/site-packages (from matplotlib) (4.54.1)\n",
      "Requirement already satisfied: kiwisolver>=1.3.1 in ./.venv/lib/python3.9/site-packages (from matplotlib) (1.4.7)\n",
      "Requirement already satisfied: packaging>=20.0 in ./.venv/lib/python3.9/site-packages (from matplotlib) (24.1)\n",
      "Requirement already satisfied: pillow>=8 in ./.venv/lib/python3.9/site-packages (from matplotlib) (11.0.0)\n",
      "Requirement already satisfied: pyparsing>=2.3.1 in ./.venv/lib/python3.9/site-packages (from matplotlib) (3.2.0)\n",
      "Requirement already satisfied: python-dateutil>=2.7 in ./.venv/lib/python3.9/site-packages (from matplotlib) (2.9.0.post0)\n",
      "Requirement already satisfied: importlib-resources>=3.2.0 in ./.venv/lib/python3.9/site-packages (from matplotlib) (6.4.5)\n",
      "Requirement already satisfied: zipp>=3.1.0 in ./.venv/lib/python3.9/site-packages (from importlib-resources>=3.2.0->matplotlib) (3.20.2)\n",
      "Requirement already satisfied: six>=1.5 in ./.venv/lib/python3.9/site-packages (from python-dateutil>=2.7->matplotlib) (1.16.0)\n",
      "Note: you may need to restart the kernel to use updated packages.\n"
     ]
    }
   ],
   "source": [
    "%pip install numpy matplotlib"
   ]
  },
  {
   "cell_type": "code",
   "execution_count": 3,
   "metadata": {},
   "outputs": [],
   "source": [
    "import numpy as np\n",
    "import matplotlib.pyplot as plt\n",
    "from copy import deepcopy\n",
    "import time"
   ]
  },
  {
   "cell_type": "markdown",
   "metadata": {},
   "source": [
    "Helper function from 331"
   ]
  },
  {
   "cell_type": "code",
   "execution_count": 4,
   "metadata": {},
   "outputs": [],
   "source": [
    "# do_comparison is an optional helper function but HIGHLY recommended!!!\n",
    "def do_comparison(first, second, comparator, descending):\n",
    "    \"\"\"\n",
    "    Takes elements first and second, the comparator, and descending as arguments,\n",
    "    and tells you whether or not to put a before b in the sorted list\n",
    "    \"\"\"\n",
    "    if not descending and comparator(first, second):\n",
    "        return True\n",
    "    elif descending and comparator(second, first):\n",
    "        return True\n",
    "    else:\n",
    "        return False\n",
    "    "
   ]
  },
  {
   "cell_type": "markdown",
   "metadata": {},
   "source": [
    "Insertion sort from CSE 331"
   ]
  },
  {
   "cell_type": "code",
   "execution_count": 5,
   "metadata": {},
   "outputs": [],
   "source": [
    "def insertion_sort(data, *, comparator = lambda x, y: x < y,\n",
    "                   descending = False):\n",
    "    \"\"\"\n",
    "    Given a list of values, sort that list in-place using the insertion sort algorithm and the provided comparator,\n",
    "        data: List of values that needs to be sorted\n",
    "        comparator: lambda function that will do evaluation between two elements\n",
    "        descending: descending if True, otherwise ascending\n",
    "    returns\n",
    "        None\n",
    "    \"\"\"\n",
    "    for i in range(1, len(data)):\n",
    "        j = i\n",
    "        while j > 0 and do_comparison(data[j], data[j - 1], comparator, descending):\n",
    "            data[j], data[j - 1] = data[j - 1], data[j]\n",
    "            j -= 1"
   ]
  },
  {
   "cell_type": "markdown",
   "metadata": {},
   "source": [
    "Merge sort from cse 331"
   ]
  },
  {
   "cell_type": "code",
   "execution_count": 6,
   "metadata": {},
   "outputs": [],
   "source": [
    "def merge(s1, s2, s, comparator = lambda x, y: x < y, descending = False):\n",
    "        \"\"\"\n",
    "        Merge two sorted Python Lists S1 and S2 into properly sized list\n",
    "        \"\"\"\n",
    "        i, j = 0, 0\n",
    "        while i + j < len(s):\n",
    "            if j == len(s2) or (i < len(s1) and do_comparison(s1[i], s2[j], comparator, descending)):\n",
    "                s[i + j] = s1[i]\n",
    "                i = i + 1\n",
    "            else:\n",
    "                s[i + j] = s2[j]\n",
    "                j = j + 1\n",
    "\n",
    "def merge_sort(s):\n",
    "    \"\"\"\n",
    "    Sort the elements of Python list S using\n",
    "    the merge sort algorithm\n",
    "    \"\"\"\n",
    "    n = len(s)\n",
    "    if n < 2:\n",
    "        return\n",
    "    mid = n // 2\n",
    "    S1 = s[0:mid]\n",
    "    S2 = s[mid:n]\n",
    "    merge_sort(S1)\n",
    "    merge_sort(S2)\n",
    "    merge(S1, S2, s)"
   ]
  },
  {
   "cell_type": "markdown",
   "metadata": {},
   "source": [
    "Hybrid merge sort from 331"
   ]
  },
  {
   "cell_type": "code",
   "execution_count": 7,
   "metadata": {},
   "outputs": [],
   "source": [
    "def hybrid_merge_sort(data, *, threshold = 12,\n",
    "                      comparator = lambda x, y: x < y, descending = False):\n",
    "    \"\"\"\n",
    "    Given a list of values, sort that list using a hybrid sort with the merge sort and insertion sort\n",
    "    parameters\n",
    "        data: List of values that needs to be sorted\n",
    "        threshold: threshold between insertion sort vs merge sort\n",
    "        comparator: lambda function that will do evaluation between two elements\n",
    "        descending: descending if True, otherwise ascending\n",
    "    returns\n",
    "        None\n",
    "    \"\"\"\n",
    "    \n",
    "    if len(data) <= threshold:\n",
    "        insertion_sort(data, comparator=comparator)\n",
    "    else:\n",
    "        merge_sort(data)\n"
   ]
  },
  {
   "cell_type": "markdown",
   "metadata": {},
   "source": [
    "Define k values to test with"
   ]
  },
  {
   "cell_type": "code",
   "execution_count": 16,
   "metadata": {},
   "outputs": [
    {
     "data": {
      "text/plain": [
       "[0,\n",
       " 1,\n",
       " 2,\n",
       " 3,\n",
       " 4,\n",
       " 5,\n",
       " 6,\n",
       " 7,\n",
       " 8,\n",
       " 9,\n",
       " 10,\n",
       " 11,\n",
       " 12,\n",
       " 13,\n",
       " 14,\n",
       " 15,\n",
       " 16,\n",
       " 17,\n",
       " 18,\n",
       " 19,\n",
       " 20,\n",
       " 21,\n",
       " 22,\n",
       " 23,\n",
       " 24,\n",
       " 25,\n",
       " 26,\n",
       " 27,\n",
       " 28,\n",
       " 29,\n",
       " 30,\n",
       " 31,\n",
       " 32,\n",
       " 33,\n",
       " 34,\n",
       " 35,\n",
       " 36,\n",
       " 37,\n",
       " 38,\n",
       " 39,\n",
       " 40,\n",
       " 41,\n",
       " 42,\n",
       " 43,\n",
       " 44,\n",
       " 45,\n",
       " 46,\n",
       " 47,\n",
       " 48,\n",
       " 49,\n",
       " 50,\n",
       " 51,\n",
       " 52,\n",
       " 53,\n",
       " 54,\n",
       " 55,\n",
       " 56,\n",
       " 57,\n",
       " 58,\n",
       " 59,\n",
       " 60,\n",
       " 61,\n",
       " 62,\n",
       " 63,\n",
       " 64,\n",
       " 65,\n",
       " 66,\n",
       " 67,\n",
       " 68,\n",
       " 69,\n",
       " 70,\n",
       " 71,\n",
       " 72,\n",
       " 73,\n",
       " 74,\n",
       " 75,\n",
       " 76,\n",
       " 77,\n",
       " 78,\n",
       " 79,\n",
       " 80,\n",
       " 81,\n",
       " 82,\n",
       " 83,\n",
       " 84,\n",
       " 85,\n",
       " 86,\n",
       " 87,\n",
       " 88,\n",
       " 89,\n",
       " 90,\n",
       " 91,\n",
       " 92,\n",
       " 93,\n",
       " 94,\n",
       " 95,\n",
       " 96,\n",
       " 97,\n",
       " 98,\n",
       " 99,\n",
       " 100,\n",
       " 101,\n",
       " 102,\n",
       " 103,\n",
       " 104,\n",
       " 105,\n",
       " 106,\n",
       " 107,\n",
       " 108,\n",
       " 109,\n",
       " 110,\n",
       " 111,\n",
       " 112,\n",
       " 113,\n",
       " 114,\n",
       " 115,\n",
       " 116,\n",
       " 117,\n",
       " 118,\n",
       " 119,\n",
       " 120,\n",
       " 121,\n",
       " 122,\n",
       " 123,\n",
       " 124,\n",
       " 125,\n",
       " 126,\n",
       " 127,\n",
       " 128,\n",
       " 129,\n",
       " 130,\n",
       " 131,\n",
       " 132,\n",
       " 133,\n",
       " 134,\n",
       " 135,\n",
       " 136,\n",
       " 137,\n",
       " 138,\n",
       " 139,\n",
       " 140,\n",
       " 141,\n",
       " 142,\n",
       " 143,\n",
       " 144,\n",
       " 145,\n",
       " 146,\n",
       " 147,\n",
       " 148,\n",
       " 149,\n",
       " 150]"
      ]
     },
     "execution_count": 16,
     "metadata": {},
     "output_type": "execute_result"
    }
   ],
   "source": [
    "k_values = [i for i in range(0,151)]\n",
    "k_values"
   ]
  },
  {
   "cell_type": "markdown",
   "metadata": {},
   "source": [
    "Find optimal k for specific n's"
   ]
  },
  {
   "cell_type": "code",
   "execution_count": 17,
   "metadata": {},
   "outputs": [
    {
     "name": "stdout",
     "output_type": "stream",
     "text": [
      "finished 0\n",
      "finished 1\n",
      "finished 2\n",
      "finished 3\n",
      "finished 4\n",
      "finished 5\n",
      "finished 6\n",
      "finished 7\n",
      "finished 8\n",
      "finished 9\n",
      "finished 10\n",
      "finished 11\n",
      "finished 12\n",
      "finished 13\n",
      "finished 14\n",
      "finished 15\n",
      "finished 16\n",
      "finished 17\n",
      "finished 18\n",
      "finished 19\n",
      "finished 20\n",
      "finished 21\n",
      "finished 22\n",
      "finished 23\n",
      "finished 24\n",
      "finished 25\n",
      "finished 26\n",
      "finished 27\n",
      "finished 28\n",
      "finished 29\n",
      "finished 30\n",
      "finished 31\n",
      "finished 32\n",
      "finished 33\n",
      "finished 34\n",
      "finished 35\n",
      "finished 36\n",
      "finished 37\n",
      "finished 38\n",
      "finished 39\n",
      "finished 40\n",
      "finished 41\n",
      "finished 42\n",
      "finished 43\n",
      "finished 44\n",
      "finished 45\n",
      "finished 46\n",
      "finished 47\n",
      "finished 48\n",
      "finished 49\n",
      "finished 50\n",
      "finished 51\n",
      "finished 52\n",
      "finished 53\n",
      "finished 54\n",
      "finished 55\n",
      "finished 56\n",
      "finished 57\n",
      "finished 58\n",
      "finished 59\n",
      "finished 60\n",
      "finished 61\n",
      "finished 62\n",
      "finished 63\n",
      "finished 64\n",
      "finished 65\n",
      "finished 66\n",
      "finished 67\n",
      "finished 68\n",
      "finished 69\n",
      "finished 70\n",
      "finished 71\n",
      "finished 72\n",
      "finished 73\n",
      "finished 74\n",
      "finished 75\n",
      "finished 76\n",
      "finished 77\n",
      "finished 78\n",
      "finished 79\n",
      "finished 80\n",
      "finished 81\n",
      "finished 82\n",
      "finished 83\n",
      "finished 84\n",
      "finished 85\n",
      "finished 86\n",
      "finished 87\n",
      "finished 88\n",
      "finished 89\n",
      "finished 90\n",
      "finished 91\n",
      "finished 92\n",
      "finished 93\n",
      "finished 94\n",
      "finished 95\n",
      "finished 96\n",
      "finished 97\n",
      "finished 98\n",
      "finished 99\n",
      "finished 100\n",
      "finished 101\n",
      "finished 102\n",
      "finished 103\n",
      "finished 104\n",
      "finished 105\n",
      "finished 106\n",
      "finished 107\n",
      "finished 108\n",
      "finished 109\n",
      "finished 110\n",
      "finished 111\n",
      "finished 112\n",
      "finished 113\n",
      "finished 114\n",
      "finished 115\n",
      "finished 116\n",
      "finished 117\n",
      "finished 118\n",
      "finished 119\n",
      "finished 120\n",
      "finished 121\n",
      "finished 122\n",
      "finished 123\n",
      "finished 124\n",
      "finished 125\n",
      "finished 126\n",
      "finished 127\n",
      "finished 128\n",
      "finished 129\n",
      "finished 130\n",
      "finished 131\n",
      "finished 132\n",
      "finished 133\n",
      "finished 134\n",
      "finished 135\n",
      "finished 136\n",
      "finished 137\n",
      "finished 138\n",
      "finished 139\n",
      "finished 140\n",
      "finished 141\n",
      "finished 142\n",
      "finished 143\n",
      "finished 144\n",
      "finished 145\n",
      "finished 146\n",
      "finished 147\n",
      "finished 148\n",
      "finished 149\n",
      "finished 150\n"
     ]
    }
   ],
   "source": [
    "times = []\n",
    "for k in k_values:\n",
    "    k_times = []\n",
    "    for _ in range(1000):\n",
    "        arr = np.random.randint(0, 10000, size=150)\n",
    "        start_time = time.time()\n",
    "        hybrid_merge_sort(arr, threshold=k)\n",
    "        hybrid_sort_time = time.time() - start_time\n",
    "        k_times.append(hybrid_sort_time)\n",
    "        \n",
    "    times.append(np.mean(k_times))\n",
    "    print('finished', k)"
   ]
  },
  {
   "cell_type": "code",
   "execution_count": 18,
   "metadata": {},
   "outputs": [
    {
     "data": {
      "text/plain": [
       "np.int64(89)"
      ]
     },
     "execution_count": 18,
     "metadata": {},
     "output_type": "execute_result"
    }
   ],
   "source": [
    "optimal_k = np.argmin(times)\n",
    "optimal_k"
   ]
  },
  {
   "cell_type": "code",
   "execution_count": 43,
   "metadata": {},
   "outputs": [
    {
     "name": "stderr",
     "output_type": "stream",
     "text": [
      "/var/folders/v5/b5z3y12x6kbgmyv1yqp6ktfc0000gn/T/ipykernel_75236/351240182.py:6: UserWarning: No artists with labels found to put in legend.  Note that artists whose label start with an underscore are ignored when legend() is called with no argument.\n",
      "  plt.legend()\n"
     ]
    },
    {
     "data": {
      "image/png": "[encoded data removed]",
      "text/plain": [
       "<Figure size 1200x600 with 1 Axes>"
      ]
     },
     "metadata": {},
     "output_type": "display_data"
    }
   ],
   "source": [
    "plt.figure(figsize=(12, 6))\n",
    "plt.title('Times for each k value sorting a size 150 array')\n",
    "plt.xlabel('k value')\n",
    "plt.ylabel('time taken to sort')\n",
    "plt.plot(k_values[:149], times[:149], 'b-o')\n",
    "plt.legend()\n",
    "plt.grid(True)\n",
    "\n",
    "plt.show()"
   ]
  },
  {
   "cell_type": "markdown",
   "metadata": {},
   "source": [
    "# Compare Merge, Insertion, Hybrid"
   ]
  },
  {
   "cell_type": "code",
   "execution_count": 38,
   "metadata": {},
   "outputs": [
    {
     "name": "stdout",
     "output_type": "stream",
     "text": [
      "finished 1\n",
      "finished 6\n",
      "finished 11\n",
      "finished 16\n",
      "finished 21\n",
      "finished 26\n",
      "finished 31\n",
      "finished 36\n",
      "finished 41\n",
      "finished 46\n",
      "finished 51\n",
      "finished 56\n",
      "finished 61\n",
      "finished 66\n",
      "finished 71\n",
      "finished 76\n",
      "finished 81\n",
      "finished 86\n",
      "finished 91\n",
      "finished 96\n",
      "finished 101\n",
      "finished 106\n",
      "finished 111\n",
      "finished 116\n",
      "finished 121\n",
      "finished 126\n",
      "finished 131\n",
      "finished 136\n",
      "finished 141\n",
      "finished 146\n",
      "finished 151\n",
      "finished 156\n",
      "finished 161\n",
      "finished 166\n",
      "finished 171\n",
      "finished 176\n",
      "finished 181\n",
      "finished 186\n",
      "finished 191\n",
      "finished 196\n",
      "finished 201\n",
      "finished 206\n",
      "finished 211\n",
      "finished 216\n",
      "finished 221\n",
      "finished 226\n",
      "finished 231\n",
      "finished 236\n",
      "finished 241\n",
      "finished 246\n"
     ]
    }
   ],
   "source": [
    "merge_times = []\n",
    "insertion_times = []\n",
    "hybrid_sort_times = []\n",
    "iterations = 1000\n",
    "for n in range(1, 251, 5):\n",
    "    merge_time = insertion_time = hybrid_sort_time = 0\n",
    "    for _ in range(iterations):\n",
    "        lst = np.random.randint(0, 10000, size=n)\n",
    "        \n",
    "        # merge sort\n",
    "        if True: # remove from scope so doesn't affect times of other\n",
    "            merge_array = deepcopy(lst) # deepcopy to not mess up original list\n",
    "            start_time = time.time()\n",
    "            merge_sort(merge_array)\n",
    "            merge_time += time.time() - start_time\n",
    "            \n",
    "        # insertion sort\n",
    "        if True:\n",
    "            insertion_array = deepcopy(lst)\n",
    "            start_time = time.time()\n",
    "            insertion_sort(insertion_array)\n",
    "            insertion_time += time.time() - start_time\n",
    "            \n",
    "        # hybrid sort\n",
    "        if True:\n",
    "            hybrid_array = deepcopy(lst)\n",
    "            start_time = time.time()\n",
    "            hybrid_merge_sort(hybrid_array, threshold=optimal_k)\n",
    "            hybrid_sort_time += time.time() - start_time\n",
    "    \n",
    "    merge_times.append(merge_time / iterations)\n",
    "    insertion_times.append(insertion_time / iterations)\n",
    "    hybrid_sort_times.append(hybrid_sort_time / iterations)\n",
    "    print('finished', n)"
   ]
  },
  {
   "cell_type": "code",
   "execution_count": 39,
   "metadata": {},
   "outputs": [
    {
     "name": "stdout",
     "output_type": "stream",
     "text": [
      "Averages\n",
      "Merge Sort: 0.000355\n",
      "Insertion Sort: 0.00219\n",
      "Hybrid Sort: 0.000418\n",
      "\n",
      "Max\n",
      "Merge Sort: 0.000762\n",
      "Insertion Sort: 0.0065\n",
      "Hybrid Sort: 0.000771\n",
      "\n",
      "Sum\n",
      "Merge Sort: 0.0178\n",
      "Insertion Sort: 0.11\n",
      "Hybrid Sort: 0.0209\n",
      "\n"
     ]
    }
   ],
   "source": [
    "# Averages\n",
    "print('Averages')\n",
    "print(f'Merge Sort: {np.mean(merge_times):.3}')\n",
    "print(f'Insertion Sort: {np.mean(insertion_times):.3}')\n",
    "print(f'Hybrid Sort: {np.mean(hybrid_sort_times):.3}')\n",
    "print()\n",
    "# Max\n",
    "print('Max')\n",
    "print(f'Merge Sort: {np.max(merge_times):.3}')\n",
    "print(f'Insertion Sort: {np.max(insertion_times):.3}')\n",
    "print(f'Hybrid Sort: {np.max(hybrid_sort_times):.3}')\n",
    "print()\n",
    "# Sum\n",
    "print('Sum')\n",
    "print(f'Merge Sort: {np.sum(merge_times):.3}')\n",
    "print(f'Insertion Sort: {np.sum(insertion_times):.3}')\n",
    "print(f'Hybrid Sort: {np.sum(hybrid_sort_times):.3}')\n",
    "print()"
   ]
  },
  {
   "cell_type": "code",
   "execution_count": 40,
   "metadata": {},
   "outputs": [
    {
     "data": {
      "image/png": "[encoded data removed]",
      "text/plain": [
       "<Figure size 1200x600 with 1 Axes>"
      ]
     },
     "metadata": {},
     "output_type": "display_data"
    }
   ],
   "source": [
    "tmp_n_values = [i for i in range(1, 251, 5)]\n",
    "plt.figure(figsize=(12, 6))\n",
    "plt.title('Raw Data')\n",
    "plt.xlabel('input size, n')\n",
    "plt.ylabel('time to sort (seconds)')\n",
    "plt.plot(tmp_n_values, merge_times, 'b-o', label='merge sort')\n",
    "plt.plot(tmp_n_values, insertion_times, 'r-o', label='insertion sort')\n",
    "plt.plot(tmp_n_values, hybrid_sort_times, 'g-o', label='hybrid sort')\n",
    "plt.legend()\n",
    "plt.grid(True)\n",
    "\n",
    "plt.show()"
   ]
  },
  {
   "cell_type": "code",
   "execution_count": null,
   "metadata": {},
   "outputs": [],
   "source": []
  }
 ],
 "metadata": {
  "kernelspec": {
   "display_name": ".venv",
   "language": "python",
   "name": "python3"
  },
  "language_info": {
   "codemirror_mode": {
    "name": "ipython",
    "version": 3
   },
   "file_extension": ".py",
   "mimetype": "text/x-python",
   "name": "python",
   "nbconvert_exporter": "python",
   "pygments_lexer": "ipython3",
   "version": "3.9.6"
  }
 },
 "nbformat": 4,
 "nbformat_minor": 2
}
